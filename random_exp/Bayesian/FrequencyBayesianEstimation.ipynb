{
 "cells": [
  {
   "cell_type": "code",
   "execution_count": null,
   "id": "53adf713",
   "metadata": {},
   "outputs": [],
   "source": []
  },
  {
   "cell_type": "code",
   "execution_count": 1,
   "id": "caf27ce7",
   "metadata": {},
   "outputs": [],
   "source": [
    "import xarray as xr\n",
    "\n",
    "def extract_string(input_string):\n",
    "    # Find the index of the first occurrence of a digit in the input string\n",
    "    index = next((i for i, c in enumerate(input_string) if c.isdigit()), None)\n",
    "\n",
    "    if index is not None:\n",
    "        # Extract the substring from the start of the input string to the index\n",
    "        extracted_string = input_string[:index]\n",
    "        return extracted_string\n",
    "    else:\n",
    "        return None\n",
    "\n",
    "\n",
    "def fetch_results_as_xarray_arb_var(handles, qubits, measurement_axis, var_name = None):\n",
    "    \"\"\"\n",
    "    Fetches measurement results as an xarray dataset.\n",
    "    Parameters:\n",
    "    - handles : A dictionary containing stream handles, obtained through handles = job.result_handles after the execution of the program.\n",
    "    - qubits (list): A list of qubits.\n",
    "    - measurement_axis (dict): A dictionary containing measurement axis information, e.g. {\"frequency\" : freqs, \"flux\",}.\n",
    "    Returns:\n",
    "    - ds (xarray.Dataset): An xarray dataset containing the fetched measurement results.\n",
    "    \"\"\"\n",
    "    if var_name is None:\n",
    "        stream_handles = handles.keys()\n",
    "        meas_vars = list(set([extract_string(handle) for handle in stream_handles if extract_string(handle) is not None]))\n",
    "    else:\n",
    "        meas_vars = [var_name]\n",
    "    values = [\n",
    "        [handles.get(f\"{meas_var}{i + 1}\").fetch_all() for i, qubit in enumerate(qubits)] for meas_var in meas_vars\n",
    "    ]\n",
    "    if np.array(values).shape[-1] == 1:\n",
    "        values = np.array(values).squeeze(axis=-1)\n",
    "    measurement_axis[\"qubit\"] = [qubit.name for qubit in qubits]\n",
    "    measurement_axis = {key: measurement_axis[key] for key in reversed(measurement_axis.keys())}\n",
    "    \n",
    "    ds = xr.Dataset(\n",
    "        {f\"{meas_var}\": ([key for key in measurement_axis.keys()], values[i]) for i, meas_var in enumerate(meas_vars)},\n",
    "        coords=measurement_axis,\n",
    "    )\n",
    "\n",
    "    return ds\n"
   ]
  },
  {
   "cell_type": "code",
   "execution_count": 2,
   "id": "3c897168",
   "metadata": {},
   "outputs": [
    {
     "name": "stdout",
     "output_type": "stream",
     "text": [
      "2025-09-26 12:31:38,864 - qm - INFO     - Starting session: 5a63c20e-c2ee-4b7b-9294-a848dd6a448d\n"
     ]
    }
   ],
   "source": [
    "# Import and dependencies\n",
    "from qualibrate import QualibrationNode, NodeParameters\n",
    "from iqcc_calibration_tools.quam_config.components import Quam\n",
    "from iqcc_calibration_tools.analysis.plot_utils import QubitGrid, grid_iter\n",
    "from iqcc_calibration_tools.quam_config.lib.qua_datasets import convert_IQ_to_V\n",
    "from iqcc_calibration_tools.storage.save_utils import fetch_results_as_xarray, load_dataset\n",
    "from qualang_tools.units import unit\n",
    "from qualang_tools.multi_user import qm_session\n",
    "from qm import SimulationConfig\n",
    "from qm.qua import *\n",
    "from typing import Optional, List, Literal\n",
    "import numpy as np\n",
    "import xarray as xr\n",
    "import matplotlib.pyplot as plt\n",
    "from qualang_tools.results import progress_counter, fetching_tool\n",
    "from datetime import datetime\n",
    "from iqcc_calibration_tools.quam_config.macros import qua_declaration, active_reset, readout_state\n",
    "from qualang_tools.loops import from_array\n",
    "u = unit(coerce_to_integer=True)\n"
   ]
  },
  {
   "cell_type": "code",
   "execution_count": null,
   "id": "e321d6ff",
   "metadata": {},
   "outputs": [
    {
     "name": "stderr",
     "output_type": "stream",
     "text": [
      "\u001b[38;20m2025-09-26 12:31:49,592 - qualibrate - INFO - Creating node FrequencyBayes\u001b[0m\n"
     ]
    }
   ],
   "source": [
    "class Parameters(NodeParameters):\n",
    "    # Define which qubits to measure\n",
    "    qubits: Optional[List[str]] = None\n",
    "\n",
    "    # Experiment parameters\n",
    "    num_repetitions: int = 100\n",
    "    min_wait_time_in_ns: int = 16\n",
    "    max_wait_time_in_ns: int = 5000\n",
    "    wait_time_step_in_ns: int = 48\n",
    "    detuning: int = 2 * u.MHz\n",
    "\n",
    "    # Bayesian parameters\n",
    "    f_min: float = 1\n",
    "    f_max: float = 3\n",
    "    df: float = 0.01\n",
    "    \n",
    "    alpha: float = -0.2\n",
    "    beta: float = 0.8\n",
    "\n",
    "    # Control parameters\n",
    "    reset_type: Literal[\"active\", \"thermal\"] = \"thermal\"\n",
    "    use_state_discrimination: bool = True\n",
    "\n",
    "    # Execution parameters\n",
    "    simulate: bool = False\n",
    "    simulation_duration_ns: int = 2500\n",
    "    timeout: int = 100\n",
    "    load_data_id: Optional[int] = None\n",
    "    multiplexed: bool = False\n",
    "\n",
    "# Create experiment node\n",
    "node = QualibrationNode(name=\"FrequencyBayes\", parameters=Parameters())\n",
    "#node_id = get_node_id()"
   ]
  },
  {
   "cell_type": "code",
   "execution_count": 6,
   "id": "45e67b90",
   "metadata": {},
   "outputs": [
    {
     "name": "stderr",
     "output_type": "stream",
     "text": [
      "c:\\Users\\tomdv\\OneDrive - QM Machines LTD\\Documents\\IQCC_Research\\venv\\Lib\\site-packages\\quam\\components\\channels.py:636: UserWarning: The 'thread' element argument is deprecated from qm.qua >= 1.2.2. Use 'core' instead.\n",
      "  warnings.warn(\n"
     ]
    },
    {
     "name": "stdout",
     "output_type": "stream",
     "text": [
      "2025-09-26 12:32:12,190 - qm - INFO     - Performing health check\n",
      "2025-09-26 12:32:12,278 - qm - INFO     - Cluster healthcheck completed successfully.\n"
     ]
    }
   ],
   "source": [
    "# Initialize unit handling\n",
    "u = unit(coerce_to_integer=True)\n",
    "\n",
    "# Load QuAM configuration\n",
    "machine = Quam.load()\n",
    "\n",
    "# Generate hardware configurations\n",
    "config = machine.generate_config()\n",
    "\n",
    "# Connect to quantum control hardware\n",
    "if node.parameters.load_data_id is None:\n",
    "    qmm = machine.connect()\n",
    "\n",
    "# Get qubit objects\n",
    "\n",
    "# if node.parameters.qubits is None or node.parameters.qubits == \"\":\n",
    "#     qubits = machine.active_qubits\n",
    "# else:\n",
    "#     qubits = [machine.qubits[q] for q in node.parameters.qubits]\n",
    "\n",
    "# qubits = [machine.qubits['qA1'],machine.qubits['qA2'], machine.qubits['qA3'], machine.qubits['qA4'], machine.qubits['qA5']]\n",
    "qubits = [machine.qubits['Q6']]\n",
    "v_f = np.arange(node.parameters.f_min, node.parameters.f_max + 0.5 * node.parameters.df, node.parameters.df)\n",
    "num_qubits = len(qubits)"
   ]
  },
  {
   "cell_type": "code",
   "execution_count": 7,
   "id": "169c8a09",
   "metadata": {},
   "outputs": [],
   "source": [
    "# Set up experiment parameters\n",
    "\n",
    "n_reps = node.parameters.num_repetitions\n",
    "idle_times = np.arange(\n",
    "    node.parameters.min_wait_time_in_ns // 4,\n",
    "    node.parameters.max_wait_time_in_ns // 4,\n",
    "    node.parameters.wait_time_step_in_ns // 4,\n",
    ")\n",
    "detuning = node.parameters.detuning\n",
    "\n",
    "# Define QUA program\n",
    "with program() as BayesFreq:\n",
    "    # Declare variables\n",
    "    I, I_st, Q, Q_st, n, n_st = qua_declaration(num_qubits=num_qubits)\n",
    "\n",
    "    if node.parameters.use_state_discrimination:\n",
    "        state = [declare(int) for _ in range(num_qubits)]\n",
    "        state_st = [declare_stream() for _ in range(num_qubits)]\n",
    "\n",
    "    t = declare(int)\n",
    "    phase = declare(fixed)\n",
    "\n",
    "    # Bayes variables\n",
    "    \n",
    "    frequencies = declare(fixed, value=v_f.tolist())\n",
    "\n",
    "    Pf = declare(fixed, value=(np.ones(len(v_f)) / len(v_f)).tolist())\n",
    "    Pf_st = [declare_stream() for _ in range(num_qubits)]\n",
    "\n",
    "    norm = declare(fixed)\n",
    "    s = declare(int)  # Variable for qubit state classification\n",
    "\n",
    "    t_sample = declare(fixed)\n",
    "\n",
    "    f = declare(fixed)\n",
    "\n",
    "    C = declare(fixed)\n",
    "    rk = declare(fixed)\n",
    "\n",
    "    alpha = declare(fixed, value=node.parameters.alpha)\n",
    "    beta = declare(fixed, value=node.parameters.beta)\n",
    "\n",
    "    # Main experiment loop\n",
    "    for i, qubit in enumerate(qubits):\n",
    "        # Set flux bias\n",
    "        machine.set_all_fluxes(flux_point=\"joint\", target=qubit)\n",
    "\n",
    "        # Averaging loop\n",
    "        with for_(n, 0, n < n_reps, n + 1):\n",
    "            save(n, n_st)\n",
    "\n",
    "            # Time sweep loop\n",
    "            with for_(*from_array(t, idle_times)):\n",
    "                assign(phase, Cast.mul_fixed_by_int(detuning * 1e-9, 4 * t))\n",
    "                # Reset qubit\n",
    "                if node.parameters.reset_type == \"active\":\n",
    "                    active_reset(qubit, \"readout\")\n",
    "                else:\n",
    "                    qubit.resonator.wait(qubit.thermalization_time * u.ns)\n",
    "                    qubit.align()\n",
    "\n",
    "                # Excitation\n",
    "                qubit.xy.play(\"x90\")\n",
    "                qubit.align()\n",
    "\n",
    "                # Wait time\n",
    "                qubit.xy.wait(t)\n",
    "                qubit.xy.frame_rotation_2pi(phase)\n",
    "                qubit.xy.play(\"x90\")\n",
    "                qubit.align()\n",
    "\n",
    "                # Measurement\n",
    "                readout_state(qubit, state[i])\n",
    "                save(state[i], state_st[i])\n",
    "\n",
    "                \n",
    "                assign(rk, Cast.to_fixed(state[i]) - 0.5)  # Fix: use scalar variable\n",
    "                assign(t_sample, Cast.mul_fixed_by_int(1e-3, t * 4))\n",
    "\n",
    "                f_idx = declare(int)\n",
    "                with for_(f_idx, 0, f_idx < len(v_f), f_idx + 1):\n",
    "                    assign(C, Math.cos2pi(frequencies[f_idx] * t_sample))\n",
    "                    assign(\n",
    "                        Pf[f_idx],\n",
    "                        (0.5 + rk * (alpha + beta * C))\n",
    "                        * Pf[f_idx],\n",
    "                    )\n",
    "                \n",
    "                assign(norm, Cast.to_fixed(1.0 / Math.sum(Pf)))\n",
    "\n",
    "                with for_(f_idx, 0, f_idx < len(v_f), f_idx + 1):\n",
    "                    assign(Pf[f_idx], norm * Pf[f_idx])\n",
    "                    save(Pf[f_idx], Pf_st[i])\n",
    "                \n",
    "                reset_frame(qubit.xy.name)\n",
    "            \n",
    "            with for_(f_idx, 0, f_idx < len(v_f), f_idx + 1):\n",
    "                    assign(Pf[f_idx], 1 / len(v_f))\n",
    "        # Stream processing\n",
    "    with stream_processing():\n",
    "        n_st.save(\"n\")\n",
    "        for i in range(num_qubits):\n",
    "            \n",
    "            Pf_st[i].buffer(len(v_f)).buffer(len(idle_times)).buffer(n_reps).save(f\"Pf{i + 1}\")\n",
    "            state_st[i].buffer(n_reps,len(idle_times)).save(f\"state{i + 1}\")"
   ]
  },
  {
   "cell_type": "code",
   "execution_count": 8,
   "id": "fe4fe602",
   "metadata": {},
   "outputs": [
    {
     "name": "stderr",
     "output_type": "stream",
     "text": [
      "c:\\Users\\tomdv\\OneDrive - QM Machines LTD\\Documents\\IQCC_Research\\venv\\Lib\\site-packages\\qm\\program\\_qua_config_schema.py:1880: DeprecationWarning: 'version' is deprecated since \"1.2.2\" and will be removed in \"1.3.0\". Please remove it from the Qua config.\n",
      "  warnings.warn(\n"
     ]
    },
    {
     "name": "stdout",
     "output_type": "stream",
     "text": [
      "2025-09-26 12:32:17,683 - qm - INFO     - Opening QM\n",
      "2025-09-26 12:32:17,684 - qm - INFO     - Clearing queue\n",
      "2025-09-26 12:32:17,862 - qm - INFO     - Adding program to queue.\n",
      "Progress: [##################################################] 100.0% (n=100/100) --> elapsed time: 4.01s\n",
      "Progress: [##################################################] 100.0% (n=100/100) --> elapsed time: 4.30s\n",
      "Progress: [##################################################] 100.0% (n=100/100) --> elapsed time: 4.57s\n",
      "Progress: [##################################################] 100.0% (n=100/100) --> elapsed time: 4.86s\n"
     ]
    },
    {
     "name": "stderr",
     "output_type": "stream",
     "text": [
      "c:\\Users\\tomdv\\OneDrive - QM Machines LTD\\Documents\\IQCC_Research\\venv\\Lib\\site-packages\\qm\\api\\v2\\qm_api_old.py:976: DeprecationWarning: qm.get_running_job is deprecated since \"1.2.0\" and will be removed in \"1.4.0\". This method is going to be removed, please use `qm.get_jobs(status=['Running'])`\n",
      "  warnings.warn(\n"
     ]
    },
    {
     "name": "stdout",
     "output_type": "stream",
     "text": [
      "2025-09-26 12:32:24,867 - qm - INFO     - Closing QM\n"
     ]
    }
   ],
   "source": [
    "with qm_session(qmm, config, timeout=node.parameters.timeout ) as qm:\n",
    "    job = qm.execute(BayesFreq)\n",
    "\n",
    "    results = fetching_tool(job, [\"n\"], mode=\"live\")\n",
    "    while results.is_processing():\n",
    "        # Fetch results\n",
    "        n = results.fetch_all()[0]\n",
    "        # Progress bar\n",
    "        progress_counter(n, node.parameters.num_repetitions, start_time=results.start_time)\n"
   ]
  },
  {
   "cell_type": "code",
   "execution_count": 9,
   "id": "15016444",
   "metadata": {},
   "outputs": [],
   "source": [
    "ds_single = fetch_results_as_xarray_arb_var(job.result_handles, qubits, {\"t\": idle_times*4, \"repetition\": np.arange(1,n_reps+1)}, \"state\")\n",
    "ds_Pf = fetch_results_as_xarray_arb_var(job.result_handles, qubits, {\"vf\" : v_f,\"t\": idle_times*4, \"repetition\": np.arange(1,n_reps+1)}, \"Pf\")\n",
    "ds = xr.merge([ds_single, ds_Pf])"
   ]
  },
  {
   "cell_type": "code",
   "execution_count": 10,
   "id": "c7d91982",
   "metadata": {},
   "outputs": [
    {
     "data": {
      "image/png": "[encoded data removed]",
      "text/plain": [
       "<Figure size 300x300 with 2 Axes>"
      ]
     },
     "metadata": {},
     "output_type": "display_data"
    }
   ],
   "source": [
    "import matplotlib.pyplot as plt\n",
    "\n",
    "fig, ax = plt.subplots(1,num_qubits,figsize=(3*num_qubits, 3))\n",
    "if num_qubits == 1:\n",
    "    ds_single.state.plot(ax=ax)\n",
    "    ax.set_xlabel('Time [ns]')\n",
    "    ax.set_ylabel('Repetitions')\n",
    "    ax.set_title('State Probability Over Time')\n",
    "else:\n",
    "    for i in range(num_qubits):\n",
    "        ds_single.state.isel(qubit=i).plot(ax=ax[i])\n",
    "        ax[i].set_xlabel('Time [ns]')\n",
    "        ax[i].set_ylabel('Repetitions')\n",
    "        ax[i].set_title('State Probability Over Time')\n",
    "\n",
    "\n",
    "plt.tight_layout()\n",
    "plt.show()"
   ]
  },
  {
   "cell_type": "code",
   "execution_count": 11,
   "id": "56d6a1cc",
   "metadata": {},
   "outputs": [
    {
     "data": {
      "text/plain": [
       "<xarray.plot.facetgrid.FacetGrid at 0x1bdbbd97390>"
      ]
     },
     "execution_count": 11,
     "metadata": {},
     "output_type": "execute_result"
    },
    {
     "data": {
      "image/png": "[encoded data removed]",
      "text/plain": [
       "<Figure size 400x300 with 2 Axes>"
      ]
     },
     "metadata": {},
     "output_type": "display_data"
    }
   ],
   "source": [
    "ds_Pf.Pf.isel(t=10).plot(col = \"qubit\")"
   ]
  },
  {
   "cell_type": "code",
   "execution_count": 12,
   "id": "81796adb",
   "metadata": {},
   "outputs": [
    {
     "ename": "NameError",
     "evalue": "name 'y_data_key' is not defined",
     "output_type": "error",
     "traceback": [
      "\u001b[31m---------------------------------------------------------------------------\u001b[39m",
      "\u001b[31mNameError\u001b[39m                                 Traceback (most recent call last)",
      "\u001b[36mCell\u001b[39m\u001b[36m \u001b[39m\u001b[32mIn[12]\u001b[39m\u001b[32m, line 8\u001b[39m\n\u001b[32m      6\u001b[39m qubit_name = qubit[\u001b[33m\"\u001b[39m\u001b[33mqubit\u001b[39m\u001b[33m\"\u001b[39m]\n\u001b[32m      7\u001b[39m t_vals = ds.t.values\n\u001b[32m----> \u001b[39m\u001b[32m8\u001b[39m y_vals = ds[\u001b[43my_data_key\u001b[49m].sel(qubit=qubit_name).values\n\u001b[32m     10\u001b[39m \u001b[38;5;66;03m# Plot data with pcolormesh\u001b[39;00m\n\u001b[32m     11\u001b[39m X, Y = np.meshgrid(t_vals, np.arange(\u001b[32m1\u001b[39m, n_reps + \u001b[32m1\u001b[39m))\n",
      "\u001b[31mNameError\u001b[39m: name 'y_data_key' is not defined"
     ]
    },
    {
     "data": {
      "image/png": "[encoded data removed]",
      "text/plain": [
       "<Figure size 300x300 with 1 Axes>"
      ]
     },
     "metadata": {},
     "output_type": "display_data"
    }
   ],
   "source": [
    "# Create qubit grid\n",
    "grid = QubitGrid(ds, [q.grid_location for q in qubits])\n",
    "\n",
    "# Loop over grid axes and qubits\n",
    "for ax, qubit in grid_iter(grid):\n",
    "    qubit_name = qubit[\"qubit\"]\n",
    "    t_vals = ds.t.values\n",
    "    y_vals = ds[y_data_key].sel(qubit=qubit_name).values\n",
    "\n",
    "    # Plot data with pcolormesh\n",
    "    X, Y = np.meshgrid(t_vals, np.arange(1, n_reps + 1))\n",
    "    pcm = ax.pcolormesh(X, Y, y_vals.T, shading='auto')\n",
    "    ax.set_xlabel(\"Idle time [ns]\")\n",
    "    ax.set_ylabel(\"Repetition\")\n",
    "    ax.set_title(qubit_name)\n",
    "    grid.fig.colorbar(pcm, ax=ax, label=f\"{y_data_key}\")\n",
    "    ax.grid(True)\n",
    "\n",
    "grid.fig.suptitle(\"Frequency Bayes Results\")\n",
    "plt.tight_layout()\n",
    "\n",
    "# Save results\n",
    "node.results = {\n",
    "    \"ds\": ds,\n",
    "    \"figure\": grid.fig\n",
    "}\n",
    "node.machine = machine\n",
    "node.save()"
   ]
  },
  {
   "cell_type": "code",
   "execution_count": null,
   "id": "0297a1e6",
   "metadata": {},
   "outputs": [],
   "source": []
  }
 ],
 "metadata": {
  "kernelspec": {
   "display_name": "venv",
   "language": "python",
   "name": "python3"
  },
  "language_info": {
   "codemirror_mode": {
    "name": "ipython",
    "version": 3
   },
   "file_extension": ".py",
   "mimetype": "text/x-python",
   "name": "python",
   "nbconvert_exporter": "python",
   "pygments_lexer": "ipython3",
   "version": "3.11.8"
  }
 },
 "nbformat": 4,
 "nbformat_minor": 5
}
